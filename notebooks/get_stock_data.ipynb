{
 "cells": [
  {
   "cell_type": "code",
   "execution_count": 1,
   "id": "db1dc9ca",
   "metadata": {},
   "outputs": [],
   "source": [
    "from datetime import datetime, timedelta\n",
    "import yfinance as yf"
   ]
  },
  {
   "cell_type": "code",
   "execution_count": null,
   "id": "75d8f468",
   "metadata": {},
   "outputs": [],
   "source": [
    "end_date = datetime.today()\n",
    "start_date = end_date - timedelta(days=365 * 4)\n",
    "\n",
    "def get_stock_data(ticker=\"AAPL\", start_date=start_date, end_date=end_date, path=\"../data/stock_data_4years.csv\"):\n",
    "    print(f\"Fetching stock data for {ticker} from {start_date} to {end_date}...\")\n",
    "    stock_data = yf.download(ticker, start=start_date, end=end_date) # code to extract stock data\n",
    "    print(f\"Stock data for {ticker} fetched successfully!\")\n",
    "    \n",
    "    # small summary of fetched stock data\n",
    "    print(f\"Stock data shape: {stock_data.shape}\")\n",
    "    print(f\"Date range: {stock_data.index[0]} to {stock_data.index[-1]}\")\n",
    "    print(\"\\nFirst 5 rows:\")\n",
    "    print(stock_data.head())\n",
    "\n",
    "    print(\"\\nLast 5 rows:\")\n",
    "    print(stock_data.tail())\n",
    "    \n",
    "    # save stock data to csv\n",
    "    stock_data.to_csv(path)\n",
    "    print(f\"Stock data saved to {path}\")\n"
   ]
  },
  {
   "cell_type": "code",
   "execution_count": null,
   "id": "d3752bb9",
   "metadata": {},
   "outputs": [],
   "source": [
    "to_date = datetime.today().date()\n",
    "from_date = to_date - timedelta(days=30)\n",
    "\n",
    "# get_stock_data()"
   ]
  }
 ],
 "metadata": {
  "kernelspec": {
   "display_name": ".venv",
   "language": "python",
   "name": "python3"
  },
  "language_info": {
   "codemirror_mode": {
    "name": "ipython",
    "version": 3
   },
   "file_extension": ".py",
   "mimetype": "text/x-python",
   "name": "python",
   "nbconvert_exporter": "python",
   "pygments_lexer": "ipython3",
   "version": "3.12.5"
  }
 },
 "nbformat": 4,
 "nbformat_minor": 5
}
