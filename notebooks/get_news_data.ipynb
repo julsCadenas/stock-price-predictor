{
 "cells": [
  {
   "cell_type": "code",
   "execution_count": 1,
   "id": "6d667fd5",
   "metadata": {},
   "outputs": [
    {
     "data": {
      "text/plain": [
       "True"
      ]
     },
     "execution_count": 1,
     "metadata": {},
     "output_type": "execute_result"
    }
   ],
   "source": [
    "from dotenv import load_dotenv\n",
    "import pandas as pd\n",
    "import os\n",
    "import requests\n",
    "import time\n",
    "\n",
    "load_dotenv()"
   ]
  },
  {
   "cell_type": "code",
   "execution_count": 2,
   "id": "aadb6af8",
   "metadata": {},
   "outputs": [],
   "source": [
    "API_KEY = os.getenv('NYT_API')\n",
    "BASE_URL = \"https://api.nytimes.com/svc/search/v2/articlesearch.json\"\n",
    "\n",
    "def get_nyt_articles(begin_date, end_date, query=\"Apple\", pages=10):\n",
    "    articles = []\n",
    "\n",
    "    for page in range(pages):\n",
    "        params = {\n",
    "            \"q\": query,\n",
    "            \"begin_date\": begin_date,  # Format: YYYYMMDD\n",
    "            \"end_date\": end_date,\n",
    "            \"page\": page,\n",
    "            \"api-key\": API_KEY\n",
    "        }\n",
    "\n",
    "        response = requests.get(BASE_URL, params=params)\n",
    "        if response.status_code != 200:\n",
    "            print(f\"Failed at page {page}, status code: {response.status_code}\")\n",
    "            break\n",
    "\n",
    "        docs = response.json().get(\"response\", {}).get(\"docs\", [])\n",
    "        if not docs:\n",
    "            print(f\"No docs found on page {page}\")\n",
    "            break\n",
    "\n",
    "        for doc in docs:\n",
    "            articles.append({\n",
    "                \"title\": doc.get(\"headline\", {}).get(\"main\", \"\"),\n",
    "                \"snippet\": doc.get(\"snippet\", \"\"),\n",
    "                \"pub_date\": doc.get(\"pub_date\", \"\"),\n",
    "                \"web_url\": doc.get(\"web_url\", \"\"),\n",
    "                \"section\": doc.get(\"section_name\", \"\"),\n",
    "                \"source\": doc.get(\"source\", \"\")\n",
    "            })\n",
    "\n",
    "        print(f\"[✓] Page {page + 1}: {len(docs)} articles fetched\")\n",
    "        time.sleep(20)  # Rate limit: 10 req/min\n",
    "        \n",
    "        if response.status_code == 429:\n",
    "            print(\"🚫 Rate limit hit! Resting.\")\n",
    "            time.sleep(20)\n",
    "            continue\n",
    "\n",
    "    return pd.DataFrame(articles)"
   ]
  },
  {
   "cell_type": "code",
   "execution_count": 3,
   "id": "7ed817e1",
   "metadata": {},
   "outputs": [],
   "source": [
    "begin_date = 20250716\n",
    "end_date = 20250717\n",
    "save_path = \"../data/nyt_apple1718.csv\"\n",
    "\n",
    "# df = get_nyt_articles(begin_date=begin_date, end_date=end_date, query=\"Apple\", pages=10)\n",
    "# df.to_csv(save_path, index=False)\n",
    "# print(f\"\\nSaved {len(df)} articles to {save_path}\")"
   ]
  }
 ],
 "metadata": {
  "kernelspec": {
   "display_name": ".venv",
   "language": "python",
   "name": "python3"
  },
  "language_info": {
   "codemirror_mode": {
    "name": "ipython",
    "version": 3
   },
   "file_extension": ".py",
   "mimetype": "text/x-python",
   "name": "python",
   "nbconvert_exporter": "python",
   "pygments_lexer": "ipython3",
   "version": "3.12.5"
  }
 },
 "nbformat": 4,
 "nbformat_minor": 5
}
