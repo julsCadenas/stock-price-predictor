{
 "cells": [
  {
   "cell_type": "code",
   "execution_count": 15,
   "id": "7d3c49e2",
   "metadata": {},
   "outputs": [
    {
     "data": {
      "text/plain": [
       "True"
      ]
     },
     "execution_count": 15,
     "metadata": {},
     "output_type": "execute_result"
    }
   ],
   "source": [
    "import pandas as pd\n",
    "import numpy as np\n",
    "import matplotlib.pyplot as plt\n",
    "import seaborn as sns\n",
    "import os\n",
    "from datetime import datetime, timedelta\n",
    "from dotenv import load_dotenv\n",
    "\n",
    "import yfinance as yf\n",
    "from newsapi import NewsApiClient\n",
    "\n",
    "load_dotenv()"
   ]
  },
  {
   "cell_type": "code",
   "execution_count": 18,
   "id": "edac7c4c",
   "metadata": {},
   "outputs": [],
   "source": [
    "NEWS_API = os.getenv('NEWS_API')\n",
    "\n",
    "def get_stock_data(ticker=\"AAPL\", start_date=\"2020-01-01\", end_date=\"2024-01-01\", path=\"../data/stock_data_4years.csv\"):\n",
    "    print(f\"Fetching stock data for {ticker} from {start_date} to {end_date}...\")\n",
    "    stock_data = yf.download(ticker, start=start_date, end=end_date) # code to extract stock data\n",
    "    print(f\"Stock data for {ticker} fetched successfully!\")\n",
    "    \n",
    "    # small summary of fetched stock data\n",
    "    print(f\"Stock data shape: {stock_data.shape}\")\n",
    "    print(f\"Date range: {stock_data.index[0]} to {stock_data.index[-1]}\")\n",
    "    print(\"\\nFirst 5 rows:\")\n",
    "    print(stock_data.head())\n",
    "\n",
    "    print(\"\\nLast 5 rows:\")\n",
    "    print(stock_data.tail())\n",
    "    \n",
    "    # save stock data to csv\n",
    "    stock_data.to_csv(path)\n",
    "    print(f\"Stock data saved to {path}\")\n",
    "\n",
    "def get_news_data(from_date, to_date, api_key=NEWS_API, q=\"Apple\", language=\"en\", sort_by=\"relevancy\", page_size=100, path=\"../data/news_data.csv\"):\n",
    "    print(f\"Fetching news data for query '{q}' from {from_date} to {to_date}...\")\n",
    "    news_api = NewsApiClient(api_key=api_key)\n",
    "    news = news_api.get_everything(\n",
    "        q = q,\n",
    "        from_param = from_date,\n",
    "        to = to_date,\n",
    "        language = language,\n",
    "        sort_by = sort_by,\n",
    "        page_size = page_size \n",
    "    )\n",
    "    print(f\"Found {len(news['articles'])} news articles for query '{q}' from {from_date} to {to_date}\")\n",
    "    \n",
    "    news_df = pd.DataFrame(news['articles'])\n",
    "    news_df.to_csv(path)\n",
    "    print(f\"News data saved to {path}\")"
   ]
  },
  {
   "cell_type": "code",
   "execution_count": 19,
   "id": "dfca90ca",
   "metadata": {},
   "outputs": [
    {
     "name": "stderr",
     "output_type": "stream",
     "text": [
      "C:\\Users\\Juls\\AppData\\Local\\Temp\\ipykernel_884\\2945640506.py:5: FutureWarning: YF.download() has changed argument auto_adjust default to True\n",
      "  stock_data = yf.download(ticker, start=start_date, end=end_date) # code to extract stock data\n",
      "[*********************100%***********************]  1 of 1 completed"
     ]
    },
    {
     "name": "stdout",
     "output_type": "stream",
     "text": [
      "Fetching stock data for AAPL from 2020-01-01 to 2024-01-01...\n",
      "Stock data for AAPL fetched successfully!\n",
      "Stock data shape: (1006, 5)\n",
      "Date range: 2020-01-02 00:00:00 to 2023-12-29 00:00:00\n",
      "\n",
      "First 5 rows:\n",
      "Price           Close       High        Low       Open     Volume\n",
      "Ticker           AAPL       AAPL       AAPL       AAPL       AAPL\n",
      "Date                                                             \n",
      "2020-01-02  72.620842  72.681289  71.373218  71.627092  135480400\n",
      "2020-01-03  71.914825  72.676454  71.689965  71.847125  146322800\n",
      "2020-01-06  72.487862  72.526549  70.783263  71.034724  118387200\n",
      "2020-01-07  72.146919  72.753800  71.926892  72.497506  108872000\n",
      "2020-01-08  73.307510  73.609745  71.849533  71.849533  132079200\n",
      "\n",
      "Last 5 rows:\n",
      "Price            Close        High         Low        Open    Volume\n",
      "Ticker            AAPL        AAPL        AAPL        AAPL      AAPL\n",
      "Date                                                                \n",
      "2023-12-22  192.192566  193.989405  191.567141  193.761066  37122800\n",
      "2023-12-26  191.646561  192.480450  191.428159  192.202487  28919300\n",
      "2023-12-27  191.745804  192.093265  189.700782  191.090614  48087700\n",
      "2023-12-28  192.172684  193.244834  191.765661  192.728610  34049900\n",
      "2023-12-29  191.130325  192.986726  190.336138  192.490361  42628800\n",
      "Stock data saved to ../data/stock_data_4years.csv\n",
      "Fetching news data for query 'Apple' from 2025-06-17 to 2025-07-17...\n"
     ]
    },
    {
     "name": "stderr",
     "output_type": "stream",
     "text": [
      "\n"
     ]
    },
    {
     "name": "stdout",
     "output_type": "stream",
     "text": [
      "Found 100 news articles for query 'Apple' from 2025-06-17 to 2025-07-17\n",
      "News data saved to ../data/news_data.csv\n"
     ]
    }
   ],
   "source": [
    "to_date = datetime.today().date()\n",
    "from_date = to_date - timedelta(days=30)\n",
    "\n",
    "get_stock_data()\n",
    "get_news_data(from_date=from_date, to_date=to_date)"
   ]
  }
 ],
 "metadata": {
  "kernelspec": {
   "display_name": ".venv",
   "language": "python",
   "name": "python3"
  },
  "language_info": {
   "codemirror_mode": {
    "name": "ipython",
    "version": 3
   },
   "file_extension": ".py",
   "mimetype": "text/x-python",
   "name": "python",
   "nbconvert_exporter": "python",
   "pygments_lexer": "ipython3",
   "version": "3.12.5"
  }
 },
 "nbformat": 4,
 "nbformat_minor": 5
}
